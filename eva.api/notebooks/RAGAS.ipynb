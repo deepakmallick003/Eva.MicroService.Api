{
 "cells": [
  {
   "cell_type": "markdown",
   "id": "b18a0480-3c88-43a8-8970-495a23ebd07c",
   "metadata": {},
   "source": [
    "### Ragas: Synthetic Test Data generation"
   ]
  },
  {
   "cell_type": "code",
   "execution_count": 1,
   "id": "9b2b4fa3-d99a-47f9-9248-8a7ab5700305",
   "metadata": {},
   "outputs": [],
   "source": [
    "# %pip install ragas"
   ]
  },
  {
   "cell_type": "code",
   "execution_count": 14,
   "id": "463d4fc5-ada7-4330-89a6-52b161edec89",
   "metadata": {},
   "outputs": [
    {
     "name": "stdout",
     "output_type": "stream",
     "text": [
      "page_content='{\"Type\": \"PMDG\", \"Country\": \"India\", \"Crop\": \"Rice/Paddy\", \"PAN\": \"20187800870\", \"Language\": \"English\", \"PMDGVersionID\": \"105687\", \"PMDGParentID\": \"105209\", \"Title\": \"Bakanae disease of paddy\", \"CropCommonNames\": \"Foolish Seedling\", \"ProblemScientificName\": \"Fusarium moniliforme\", \"Image1Caption\": \"Root growth from infected node (O.P. Sharma, Bugwood.org)\"}' metadata={'Country': 'India', 'Language': 'English', 'Last_Updated': '2024-08-30T11:06:38.065529+00:00', 'Source': '20187800870', 'Title': 'Bakanae disease of paddy', 'Type': 'PMDG'}\n"
     ]
    },
    {
     "name": "stderr",
     "output_type": "stream",
     "text": [
      "C:\\Users\\MallickD\\AppData\\Local\\Temp\\ipykernel_191492\\366322124.py:68: DeprecationWarning: The function with_openai was deprecated in 0.1.4, and will be removed in the 0.2.0 release. Use from_langchain instead.\n",
      "  generator = TestsetGenerator.with_openai()\n"
     ]
    },
    {
     "data": {
      "application/vnd.jupyter.widget-view+json": {
       "model_id": "",
       "version_major": 2,
       "version_minor": 0
      },
      "text/plain": [
       "embedding nodes:   0%|          | 0/92 [00:00<?, ?it/s]"
      ]
     },
     "metadata": {},
     "output_type": "display_data"
    },
    {
     "name": "stderr",
     "output_type": "stream",
     "text": [
      "Filename and doc_id are the same for all nodes.\n"
     ]
    },
    {
     "data": {
      "application/vnd.jupyter.widget-view+json": {
       "model_id": "6286d76ebe2749d3b7f1626c585cd1f0",
       "version_major": 2,
       "version_minor": 0
      },
      "text/plain": [
       "Generating:   0%|          | 0/20 [00:00<?, ?it/s]"
      ]
     },
     "metadata": {},
     "output_type": "display_data"
    }
   ],
   "source": [
    "import os\n",
    "import json\n",
    "from dotenv import load_dotenv\n",
    "from ragas.testset.generator import TestsetGenerator\n",
    "from ragas.testset.evolutions import simple, reasoning, multi_context\n",
    "from pathlib import Path\n",
    "from langchain.document_loaders import TextLoader\n",
    "from langchain.schema import Document\n",
    "\n",
    "load_dotenv(override=True)\n",
    "\n",
    "PARENT_PATH = Path.cwd().parent\n",
    "CHUNK_PATH = PARENT_PATH / 'data' / 'temp'\n",
    "\n",
    "os.environ[\"OPENAI_API_KEY\"] = os.environ[\"OPENAI_API_EMBEDDING_KEY_INTERNAL\"]\n",
    "\n",
    "def get_documents():\n",
    "    docs = []\n",
    "    file_path = os.path.join(CHUNK_PATH, 'temp.txt')  # Specify your actual file name here\n",
    "\n",
    "    try:\n",
    "        # Use TextLoader to load the content of the file\n",
    "        loader = TextLoader(file_path, autodetect_encoding=True)\n",
    "        documents = loader.load()\n",
    "\n",
    "        # Since TextLoader returns one big document with the whole file content,\n",
    "        # we need to split it into lines and parse each as a JSON document\n",
    "        for line in documents[0].page_content.splitlines():\n",
    "            if not line.strip():\n",
    "                continue  # Skip empty lines\n",
    "\n",
    "            document = json.loads(line)  # Load each line as a JSON object\n",
    "\n",
    "            # Separate the 'text' field from metadata\n",
    "            text_content = document.pop('text', None)  # Get 'text' and remove it from document\n",
    "            metadata = document  # All other fields are considered metadata\n",
    "\n",
    "            # Parse the 'text' field if it's a stringified JSON\n",
    "            if text_content and isinstance(text_content, str):\n",
    "                try:\n",
    "                    text_content = json.loads(text_content)  # Parse the stringified JSON in 'text'\n",
    "                except json.JSONDecodeError:\n",
    "                    pass  # If parsing fails, leave the 'text' field as a string\n",
    "\n",
    "            # Ensure that page_content is always a string\n",
    "            if isinstance(text_content, (dict, list)):\n",
    "                text_content = json.dumps(text_content)  # Convert JSON to string\n",
    "\n",
    "            # Convert to LangChain Document\n",
    "            langchain_document = Document(\n",
    "                page_content=text_content,  # The 'text' content becomes the page_content\n",
    "                metadata=metadata  # Metadata goes into metadata field\n",
    "            )\n",
    "\n",
    "            # Add the LangChain Document to the list\n",
    "            docs.append(langchain_document)\n",
    "\n",
    "    except Exception as e:\n",
    "        print(f\"Error reading the file: {e}\")\n",
    "\n",
    "    return docs\n",
    "\n",
    "\n",
    "\n",
    "documents = get_documents()\n",
    "print(documents[0])\n",
    "\n",
    "generator = TestsetGenerator.with_openai()\n",
    "testset = generator.generate_with_langchain_docs(documents, test_size=20, distributions={simple: 0.25, reasoning: 0.45, multi_context: 0.30})"
   ]
  },
  {
   "cell_type": "code",
   "execution_count": 15,
   "id": "72d58bb3-8ea3-419d-95f8-cf8268e3a8bf",
   "metadata": {},
   "outputs": [
    {
     "data": {
      "text/html": [
       "<div>\n",
       "<style scoped>\n",
       "    .dataframe tbody tr th:only-of-type {\n",
       "        vertical-align: middle;\n",
       "    }\n",
       "\n",
       "    .dataframe tbody tr th {\n",
       "        vertical-align: top;\n",
       "    }\n",
       "\n",
       "    .dataframe thead th {\n",
       "        text-align: right;\n",
       "    }\n",
       "</style>\n",
       "<table border=\"1\" class=\"dataframe\">\n",
       "  <thead>\n",
       "    <tr style=\"text-align: right;\">\n",
       "      <th></th>\n",
       "      <th>question</th>\n",
       "      <th>contexts</th>\n",
       "      <th>ground_truth</th>\n",
       "      <th>evolution_type</th>\n",
       "      <th>metadata</th>\n",
       "      <th>episode_done</th>\n",
       "    </tr>\n",
       "  </thead>\n",
       "  <tbody>\n",
       "    <tr>\n",
       "      <th>0</th>\n",
       "      <td>What is the active ingredient in the bio-contr...</td>\n",
       "      <td>[{\"Type\": \"BioControl-Product\", \"Country\": \"Ke...</td>\n",
       "      <td>The active ingredient in the bio-control produ...</td>\n",
       "      <td>simple</td>\n",
       "      <td>[{'Country': 'Kenya', 'Language': 'English', '...</td>\n",
       "      <td>True</td>\n",
       "    </tr>\n",
       "    <tr>\n",
       "      <th>1</th>\n",
       "      <td>What is the active ingredient in the bio-contr...</td>\n",
       "      <td>[{\"Type\": \"BioControl-Product\", \"Country\": \"Ke...</td>\n",
       "      <td>The active ingredient in the bio-control produ...</td>\n",
       "      <td>simple</td>\n",
       "      <td>[{'Country': 'Kenya', 'Language': 'English', '...</td>\n",
       "      <td>True</td>\n",
       "    </tr>\n",
       "    <tr>\n",
       "      <th>2</th>\n",
       "      <td>What are the restrictions and guidelines for u...</td>\n",
       "      <td>[{\"Pesticides(Chemical)\": {\"YellowRestrictions...</td>\n",
       "      <td>The restrictions and guidelines for using pest...</td>\n",
       "      <td>simple</td>\n",
       "      <td>[{'Country': 'Kenya', 'Language': 'English', '...</td>\n",
       "      <td>True</td>\n",
       "    </tr>\n",
       "    <tr>\n",
       "      <th>3</th>\n",
       "      <td>What crops is Bio-cure B used for in India?</td>\n",
       "      <td>[{\"Type\": \"Countrywise-Biocontrol-Use\", \"Produ...</td>\n",
       "      <td>Bio-cure B is used for rice in India.</td>\n",
       "      <td>simple</td>\n",
       "      <td>[{'Country': 'India', 'Crops': '['rice']', 'La...</td>\n",
       "      <td>True</td>\n",
       "    </tr>\n",
       "    <tr>\n",
       "      <th>4</th>\n",
       "      <td>What are some methods of biocontrol for managi...</td>\n",
       "      <td>[{\"Biocontrol(Natural)\": {\"GreenDirectControlD...</td>\n",
       "      <td>Some methods of biocontrol for managing diseas...</td>\n",
       "      <td>simple</td>\n",
       "      <td>[{'Country': 'Kenya', 'Language': 'English', '...</td>\n",
       "      <td>True</td>\n",
       "    </tr>\n",
       "  </tbody>\n",
       "</table>\n",
       "</div>"
      ],
      "text/plain": [
       "                                            question  \\\n",
       "0  What is the active ingredient in the bio-contr...   \n",
       "1  What is the active ingredient in the bio-contr...   \n",
       "2  What are the restrictions and guidelines for u...   \n",
       "3        What crops is Bio-cure B used for in India?   \n",
       "4  What are some methods of biocontrol for managi...   \n",
       "\n",
       "                                            contexts  \\\n",
       "0  [{\"Type\": \"BioControl-Product\", \"Country\": \"Ke...   \n",
       "1  [{\"Type\": \"BioControl-Product\", \"Country\": \"Ke...   \n",
       "2  [{\"Pesticides(Chemical)\": {\"YellowRestrictions...   \n",
       "3  [{\"Type\": \"Countrywise-Biocontrol-Use\", \"Produ...   \n",
       "4  [{\"Biocontrol(Natural)\": {\"GreenDirectControlD...   \n",
       "\n",
       "                                        ground_truth evolution_type  \\\n",
       "0  The active ingredient in the bio-control produ...         simple   \n",
       "1  The active ingredient in the bio-control produ...         simple   \n",
       "2  The restrictions and guidelines for using pest...         simple   \n",
       "3              Bio-cure B is used for rice in India.         simple   \n",
       "4  Some methods of biocontrol for managing diseas...         simple   \n",
       "\n",
       "                                            metadata  episode_done  \n",
       "0  [{'Country': 'Kenya', 'Language': 'English', '...          True  \n",
       "1  [{'Country': 'Kenya', 'Language': 'English', '...          True  \n",
       "2  [{'Country': 'Kenya', 'Language': 'English', '...          True  \n",
       "3  [{'Country': 'India', 'Crops': '['rice']', 'La...          True  \n",
       "4  [{'Country': 'Kenya', 'Language': 'English', '...          True  "
      ]
     },
     "execution_count": 15,
     "metadata": {},
     "output_type": "execute_result"
    }
   ],
   "source": [
    "test_df = testset.to_pandas()\n",
    "test_df.head()"
   ]
  },
  {
   "cell_type": "code",
   "execution_count": 16,
   "id": "52e42b1f-e73c-4d27-abf7-34d9c47ac82f",
   "metadata": {},
   "outputs": [
    {
     "name": "stdout",
     "output_type": "stream",
     "text": [
      "Test set exported to C:\\Users\\MallickD\\CABIGitProjects\\PlantwisePlus.GAIAPoc.Microservice.Web\\data\\temp\\temp_output.csv\n"
     ]
    }
   ],
   "source": [
    "csv_file_path = os.path.join(CHUNK_PATH, 'temp_output.csv')  \n",
    "test_df.to_csv(csv_file_path, index=False)\n",
    "\n",
    "print(f\"Test set exported to {csv_file_path}\")"
   ]
  },
  {
   "cell_type": "code",
   "execution_count": null,
   "id": "222eaaf7-2726-4822-b7d7-5698eb4fe7af",
   "metadata": {},
   "outputs": [],
   "source": []
  }
 ],
 "metadata": {
  "kernelspec": {
   "display_name": "Python 3 (ipykernel)",
   "language": "python",
   "name": "python3"
  },
  "language_info": {
   "codemirror_mode": {
    "name": "ipython",
    "version": 3
   },
   "file_extension": ".py",
   "mimetype": "text/x-python",
   "name": "python",
   "nbconvert_exporter": "python",
   "pygments_lexer": "ipython3",
   "version": "3.11.4"
  }
 },
 "nbformat": 4,
 "nbformat_minor": 5
}
